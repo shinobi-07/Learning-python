{
  "nbformat": 4,
  "nbformat_minor": 0,
  "metadata": {
    "colab": {
      "provenance": [],
      "authorship_tag": "ABX9TyOhnExuaL0Qcb+GAix7e72v",
      "include_colab_link": true
    },
    "kernelspec": {
      "name": "python3",
      "display_name": "Python 3"
    },
    "language_info": {
      "name": "python"
    }
  },
  "cells": [
    {
      "cell_type": "markdown",
      "metadata": {
        "id": "view-in-github",
        "colab_type": "text"
      },
      "source": [
        "<a href=\"https://colab.research.google.com/github/shinobi-07/Learning-python/blob/main/Project_1_word_chain.ipynb\" target=\"_parent\"><img src=\"https://colab.research.google.com/assets/colab-badge.svg\" alt=\"Open In Colab\"/></a>"
      ]
    },
    {
      "cell_type": "code",
      "execution_count": null,
      "metadata": {
        "id": "_evRNJexU4zu",
        "colab": {
          "base_uri": "https://localhost:8080/",
          "height": 426
        },
        "outputId": "08274746-8312-4380-9ddd-e903b542ed8d"
      },
      "outputs": [
        {
          "output_type": "stream",
          "name": "stdout",
          "text": [
            "input a username: Hamid\n",
            "hello Hamid\n",
            "use 'h' for two hints 'hh' for three max (3) excluding the first word\n"
          ]
        },
        {
          "output_type": "error",
          "ename": "KeyboardInterrupt",
          "evalue": "Interrupted by user",
          "traceback": [
            "\u001b[0;31m---------------------------------------------------------------------------\u001b[0m",
            "\u001b[0;31mKeyboardInterrupt\u001b[0m                         Traceback (most recent call last)",
            "\u001b[0;32m/tmp/ipython-input-2519733421.py\u001b[0m in \u001b[0;36m<cell line: 0>\u001b[0;34m()\u001b[0m\n\u001b[1;32m     15\u001b[0m \u001b[0mscore\u001b[0m \u001b[0;34m=\u001b[0m \u001b[0;36m100\u001b[0m\u001b[0;34m\u001b[0m\u001b[0;34m\u001b[0m\u001b[0m\n\u001b[1;32m     16\u001b[0m \u001b[0;32mwhile\u001b[0m \u001b[0;32mTrue\u001b[0m \u001b[0;34m:\u001b[0m\u001b[0;34m\u001b[0m\u001b[0;34m\u001b[0m\u001b[0m\n\u001b[0;32m---> 17\u001b[0;31m   \u001b[0mword01\u001b[0m \u001b[0;34m=\u001b[0m \u001b[0minput\u001b[0m\u001b[0;34m(\u001b[0m\u001b[0;34m\"guess the first word(starts with letter 's' and is blue); \"\u001b[0m\u001b[0;34m)\u001b[0m\u001b[0;34m.\u001b[0m\u001b[0mlower\u001b[0m \u001b[0;34m(\u001b[0m\u001b[0;34m)\u001b[0m\u001b[0;34m\u001b[0m\u001b[0;34m\u001b[0m\u001b[0m\n\u001b[0m\u001b[1;32m     18\u001b[0m   \u001b[0;32mif\u001b[0m \u001b[0mword01\u001b[0m \u001b[0;34m!=\u001b[0m \u001b[0mword1\u001b[0m \u001b[0;34m:\u001b[0m\u001b[0;34m\u001b[0m\u001b[0;34m\u001b[0m\u001b[0m\n\u001b[1;32m     19\u001b[0m     \u001b[0mprint\u001b[0m \u001b[0;34m(\u001b[0m\u001b[0;34m\"incorrect!\"\u001b[0m\u001b[0;34m)\u001b[0m\u001b[0;34m\u001b[0m\u001b[0;34m\u001b[0m\u001b[0m\n",
            "\u001b[0;32m/usr/local/lib/python3.12/dist-packages/ipykernel/kernelbase.py\u001b[0m in \u001b[0;36mraw_input\u001b[0;34m(self, prompt)\u001b[0m\n\u001b[1;32m   1175\u001b[0m                 \u001b[0;34m\"raw_input was called, but this frontend does not support input requests.\"\u001b[0m\u001b[0;34m\u001b[0m\u001b[0;34m\u001b[0m\u001b[0m\n\u001b[1;32m   1176\u001b[0m             )\n\u001b[0;32m-> 1177\u001b[0;31m         return self._input_request(\n\u001b[0m\u001b[1;32m   1178\u001b[0m             \u001b[0mstr\u001b[0m\u001b[0;34m(\u001b[0m\u001b[0mprompt\u001b[0m\u001b[0;34m)\u001b[0m\u001b[0;34m,\u001b[0m\u001b[0;34m\u001b[0m\u001b[0;34m\u001b[0m\u001b[0m\n\u001b[1;32m   1179\u001b[0m             \u001b[0mself\u001b[0m\u001b[0;34m.\u001b[0m\u001b[0m_parent_ident\u001b[0m\u001b[0;34m[\u001b[0m\u001b[0;34m\"shell\"\u001b[0m\u001b[0;34m]\u001b[0m\u001b[0;34m,\u001b[0m\u001b[0;34m\u001b[0m\u001b[0;34m\u001b[0m\u001b[0m\n",
            "\u001b[0;32m/usr/local/lib/python3.12/dist-packages/ipykernel/kernelbase.py\u001b[0m in \u001b[0;36m_input_request\u001b[0;34m(self, prompt, ident, parent, password)\u001b[0m\n\u001b[1;32m   1217\u001b[0m             \u001b[0;32mexcept\u001b[0m \u001b[0mKeyboardInterrupt\u001b[0m\u001b[0;34m:\u001b[0m\u001b[0;34m\u001b[0m\u001b[0;34m\u001b[0m\u001b[0m\n\u001b[1;32m   1218\u001b[0m                 \u001b[0;31m# re-raise KeyboardInterrupt, to truncate traceback\u001b[0m\u001b[0;34m\u001b[0m\u001b[0;34m\u001b[0m\u001b[0m\n\u001b[0;32m-> 1219\u001b[0;31m                 \u001b[0;32mraise\u001b[0m \u001b[0mKeyboardInterrupt\u001b[0m\u001b[0;34m(\u001b[0m\u001b[0;34m\"Interrupted by user\"\u001b[0m\u001b[0;34m)\u001b[0m \u001b[0;32mfrom\u001b[0m \u001b[0;32mNone\u001b[0m\u001b[0;34m\u001b[0m\u001b[0;34m\u001b[0m\u001b[0m\n\u001b[0m\u001b[1;32m   1220\u001b[0m             \u001b[0;32mexcept\u001b[0m \u001b[0mException\u001b[0m\u001b[0;34m:\u001b[0m\u001b[0;34m\u001b[0m\u001b[0;34m\u001b[0m\u001b[0m\n\u001b[1;32m   1221\u001b[0m                 \u001b[0mself\u001b[0m\u001b[0;34m.\u001b[0m\u001b[0mlog\u001b[0m\u001b[0;34m.\u001b[0m\u001b[0mwarning\u001b[0m\u001b[0;34m(\u001b[0m\u001b[0;34m\"Invalid Message:\"\u001b[0m\u001b[0;34m,\u001b[0m \u001b[0mexc_info\u001b[0m\u001b[0;34m=\u001b[0m\u001b[0;32mTrue\u001b[0m\u001b[0;34m)\u001b[0m\u001b[0;34m\u001b[0m\u001b[0;34m\u001b[0m\u001b[0m\n",
            "\u001b[0;31mKeyboardInterrupt\u001b[0m: Interrupted by user"
          ]
        }
      ],
      "source": [
        "username = input(\"input a username: \")\n",
        "while len(username) < 3 :\n",
        "  username = input (\"username cannot be less than 3 characters\")\n",
        "else :\n",
        "  print (f\"hello {username}\")\n",
        "print (\"use 'h' for two hints 'hh' for three max (3) excluding the first word\")\n",
        "words = [\"sea\",\"shell\",\"fish\",\"net\",\"work\",\"horse\"]\n",
        "word1 = words[0]\n",
        "word2 = words[1]\n",
        "word3 = words[2]\n",
        "word4 = words[3]\n",
        "word5 = words[4]\n",
        "word6 = words[5]\n",
        "hints = 20\n",
        "score = 100\n",
        "while True :\n",
        "  word01 = input(\"guess the first word(starts with letter 's' and is blue); \").lower ()\n",
        "  if word01 != word1 :\n",
        "    print (\"incorrect!\")\n",
        "  else:\n",
        "     print (\"correct!\")\n",
        "     break\n",
        "print (f\"hints remaining: {hints}\")\n",
        "while True :\n",
        "  word02 = input(\"guess the second word('h' for hints): \").lower ()\n",
        "  if word02 == \"h\":\n",
        "    hints -= 1\n",
        "    score -= 5\n",
        "    print (f\"{word2[:2]}---\")\n",
        "  elif word02 == \"hh\" :\n",
        "    hints-= 2\n",
        "    score -= 10\n",
        "    print (f\"{word2[:3]}--\")\n",
        "  elif word02 != word2 :\n",
        "    print (\"incorrect!\")\n",
        "  else :\n",
        "    score += 2\n",
        "    print (\"correct!\")\n",
        "    break\n",
        "print (f\"hints remaining: {hints}\")\n",
        "while True :\n",
        "  word03 = input(\"guess the third word('h' for hints): \").lower ()\n",
        "  if word03 == \"h\":\n",
        "    hints -= 1\n",
        "    score -= 5\n",
        "    print (f\"{word3[:2]}--\")\n",
        "  elif word03 == \"hh\" :\n",
        "    hints-= 2\n",
        "    score -= 10\n",
        "    print (f\"{word3[:3]}-\")\n",
        "  elif word03 != word3 :\n",
        "    print (\"incorrect!\")\n",
        "  else :\n",
        "     score += 2\n",
        "     print (\"correct!\")\n",
        "     break\n",
        "print (f\"hints remaining: {hints}\")\n",
        "while True :\n",
        "  word04 = input(\"guess the fourth word('h' for hints): \").lower ()\n",
        "  if word04 == \"h\":\n",
        "    hints -= 1\n",
        "    score -= 5\n",
        "    print (f\"{word4[:2]}-\")\n",
        "  elif word04 == \"hh\" :\n",
        "    hints-= 2\n",
        "    score -= 10\n",
        "    print (f\"{word4[:3]} 🫵🏼👀\")\n",
        "  elif word04 != word4 :\n",
        "    print (\"incorrect!\")\n",
        "  else :\n",
        "     score += 2\n",
        "     print (\"correct!\")\n",
        "     break\n",
        "print (f\"hints remaining: {hints}\")\n",
        "\n",
        "while True :\n",
        "  word05 = input(\"guess the fifth word('h' for hints): \").lower ()\n",
        "  if word05 == \"h\":\n",
        "    hints -= 1\n",
        "    score -= 5\n",
        "    print (f\"{word5[:2]}--\")\n",
        "  elif word05 == \"hh\" :\n",
        "    hints-= 2\n",
        "    score -= 10\n",
        "    print (f\"{word5[:3]}-\")\n",
        "  elif word05 != word5 :\n",
        "    print (\"incorrect!\")\n",
        "  else :\n",
        "     score += 2\n",
        "     print (\"correct!\")\n",
        "     break\n",
        "print (f\"hints remaining: {hints}\")\n",
        "\n",
        "while True :\n",
        "  word06 = input(\"guess the sixth word('h' for hints): \").lower ()\n",
        "  if word06 == \"h\":\n",
        "    hints -= 1\n",
        "    score -= 5\n",
        "    print (f\"{word6[:2]}---\")\n",
        "  elif word06 == \"hh\" :\n",
        "    hints-= 2\n",
        "    score -= 10\n",
        "    print (f\"{word6[:3]}--\")\n",
        "  elif word06 != word6 :\n",
        "    print (\"incorrect!\")\n",
        "  else :\n",
        "    score += 2\n",
        "    print (\"correct!\")\n",
        "    break\n",
        "print (f\"hints remaining: {hints}\")\n",
        "print (\"--------------------------\")\n",
        "print (\"--------YOUR SCORE--------\")\n",
        "print (f\"your score is {score} points\")\n"
      ]
    },
    {
      "cell_type": "code",
      "source": [
        "import  time\n",
        "name = input (\"input your name: \")\n",
        "print (f\"HELLO grasshopper or whatever {name} means \")\n",
        "time.sleep (4)\n",
        "print (\"TASKMASTER: The rules of the game are simple\")\n",
        "time.sleep(5)\n",
        "print (\"TASKMASTER: Oh! youre still here?\")\n",
        "time.sleep(2)\n",
        "print (\"TASKMASTER: well the rules are simple \")\n",
        "time.sleep(5)\n",
        "print (\"TASKMASTER: get a load of this guy 🫵🏼😂, you're still here? Figure it out yourself\")\n",
        "time.sleep(2)\n",
        "print (\"start game\")\n",
        "time.sleep(3)\n",
        "print (\".....\")\n",
        "time.sleep (5)\n",
        "word = \"ALGORITHM\"\n",
        "guess = [\"A\", \"L\", \"G\", \"O\", \"R\", \"I\", \"T\", \"H\", \"M\"]\n",
        "list = []\n",
        "u1 = \"\"\n",
        "while True :\n",
        "  u1 = input (\"input any letter (A-Z): \").upper ()\n",
        "  if u1 == guess[0] :\n",
        "    print (f\"{u1} _ _ _ _ _ _ _ _ _. first letter revealed \")\n",
        "    list.append (guess[0])\n",
        "    print (list, end=\" \")\n",
        "  elif u1 == guess[1] :\n",
        "    print (f\"_ {u1} _ _ _ _ _ _ _. second letter revealed \")\n",
        "    list.append (guess[1])\n",
        "    print (list, end=\" \")\n",
        "  elif u1 == guess[2] :\n",
        "    print (f\"_ _ {u1} _ _ _ _ _. third letter revealed \")\n",
        "    list.append (guess[2])\n",
        "    print (list, end=\" \")\n",
        "  elif u1 == guess[3] :\n",
        "    print (f\"_ _ _ {u1} _ _ _ _ _. fourth letter revealed \")\n",
        "    list.append (guess[3])\n",
        "    print (list, end=\" \")\n",
        "  elif u1 == guess[4] :\n",
        "    print (f\"_ _ _ _ {u1} _ _ _ _. fifth letter revealed \")\n",
        "    list.append (guess[4])\n",
        "    print (list, end=\" \")\n",
        "  elif u1 == guess[5] :\n",
        "    print (f\"_ _ _ _ _ {u1} _ _ _. sixth letter revealed \")\n",
        "    list.append (guess[5])\n",
        "    print (list, end=\" \")\n",
        "  elif u1 == guess[6] :\n",
        "    print (f\"_ _ _ _ _ _ {u1} _ _. seventh letter revealed \")\n",
        "    list.append (guess[6])\n",
        "    print (list, end=\" \")\n",
        "  elif u1 == guess[7] :\n",
        "    print (f\"_ _ _ _ _ _ _ {u1} _. eighth letter revealed \")\n",
        "    list.append (guess[7])\n",
        "    print (list, end=\" \")\n",
        "  elif u1 == guess[8] :\n",
        "    print (f\"_ _ _ _ _ _ _ _ {u1}. ninth letter revealed \")\n",
        "    list.append (guess[8])\n",
        "    print (list, end=\" \")\n",
        "  elif u1 == \"ALGORITHM\" :\n",
        "    print (f\"....... wait oh scholared one (choir noises👼🏼👼🏼) bestow upon me some of your knowledge for {u1} is the word\")\n",
        "    i = input(\"TASKMASTER:so do you have nothing else to do and wish to go again?(Y/N): \")\n",
        "    if i == \"Y\" :\n",
        "      print (\"don't know why but okay, restarting....\")\n",
        "      time.sleep (3)\n",
        "      print (\".....\")\n",
        "      time.sleep (5)\n",
        "      u1 = \"\"\n",
        "      continue\n",
        "    else :\n",
        "      print (\"TASKMASTER: it's like you were never here........    \")\n",
        "      break\n",
        "  else :\n",
        "    print(f\"so close {u1} is just not it\")\n",
        "    continue"
      ],
      "metadata": {
        "colab": {
          "base_uri": "https://localhost:8080/",
          "height": 599
        },
        "id": "QtIiY8en4Rdc",
        "outputId": "49365bd9-1902-42ca-ecc3-f27619f2a5a6"
      },
      "execution_count": null,
      "outputs": [
        {
          "output_type": "stream",
          "name": "stdout",
          "text": [
            "input your name: Hamid\n",
            "HELLO grasshopper or whatever Hamid means \n",
            "TASKMASTER: The rules of the game are simple\n",
            "TASKMASTER: Oh! youre still here?\n",
            "TASKMASTER: well the rules are simple \n",
            "TASKMASTER: get a load of this guy 🫵🏼😂, you're still here? Figure it out yourself\n",
            "start game\n",
            ".....\n",
            "input any letter (A-Z): Algorithm\n",
            "....... wait oh scholared one (choir noises👼🏼👼🏼) bestow upon me some of your knowledge for ALGORITHM is the word\n",
            "TASKMASTER:so do you have nothing else to do and wish to go again?(Y/N): Y\n",
            "don't know why but okay, restsrting....\n",
            ".....\n"
          ]
        },
        {
          "output_type": "error",
          "ename": "KeyboardInterrupt",
          "evalue": "Interrupted by user",
          "traceback": [
            "\u001b[0;31m---------------------------------------------------------------------------\u001b[0m",
            "\u001b[0;31mKeyboardInterrupt\u001b[0m                         Traceback (most recent call last)",
            "\u001b[0;32m/tmp/ipython-input-1137140469.py\u001b[0m in \u001b[0;36m<cell line: 0>\u001b[0;34m()\u001b[0m\n\u001b[1;32m     20\u001b[0m \u001b[0mu1\u001b[0m \u001b[0;34m=\u001b[0m \u001b[0;34m\"\"\u001b[0m\u001b[0;34m\u001b[0m\u001b[0;34m\u001b[0m\u001b[0m\n\u001b[1;32m     21\u001b[0m \u001b[0;32mwhile\u001b[0m \u001b[0;32mTrue\u001b[0m \u001b[0;34m:\u001b[0m\u001b[0;34m\u001b[0m\u001b[0;34m\u001b[0m\u001b[0m\n\u001b[0;32m---> 22\u001b[0;31m   \u001b[0mu1\u001b[0m \u001b[0;34m=\u001b[0m \u001b[0minput\u001b[0m \u001b[0;34m(\u001b[0m\u001b[0;34m\"input any letter (A-Z): \"\u001b[0m\u001b[0;34m)\u001b[0m\u001b[0;34m.\u001b[0m\u001b[0mupper\u001b[0m \u001b[0;34m(\u001b[0m\u001b[0;34m)\u001b[0m\u001b[0;34m\u001b[0m\u001b[0;34m\u001b[0m\u001b[0m\n\u001b[0m\u001b[1;32m     23\u001b[0m   \u001b[0;32mif\u001b[0m \u001b[0mu1\u001b[0m \u001b[0;34m==\u001b[0m \u001b[0mguess\u001b[0m\u001b[0;34m[\u001b[0m\u001b[0;36m0\u001b[0m\u001b[0;34m]\u001b[0m \u001b[0;34m:\u001b[0m\u001b[0;34m\u001b[0m\u001b[0;34m\u001b[0m\u001b[0m\n\u001b[1;32m     24\u001b[0m     \u001b[0mprint\u001b[0m \u001b[0;34m(\u001b[0m\u001b[0;34mf\"{u1} _ _ _ _ _ _ _ _ _. first letter revealed \"\u001b[0m\u001b[0;34m)\u001b[0m\u001b[0;34m\u001b[0m\u001b[0;34m\u001b[0m\u001b[0m\n",
            "\u001b[0;32m/usr/local/lib/python3.12/dist-packages/ipykernel/kernelbase.py\u001b[0m in \u001b[0;36mraw_input\u001b[0;34m(self, prompt)\u001b[0m\n\u001b[1;32m   1175\u001b[0m                 \u001b[0;34m\"raw_input was called, but this frontend does not support input requests.\"\u001b[0m\u001b[0;34m\u001b[0m\u001b[0;34m\u001b[0m\u001b[0m\n\u001b[1;32m   1176\u001b[0m             )\n\u001b[0;32m-> 1177\u001b[0;31m         return self._input_request(\n\u001b[0m\u001b[1;32m   1178\u001b[0m             \u001b[0mstr\u001b[0m\u001b[0;34m(\u001b[0m\u001b[0mprompt\u001b[0m\u001b[0;34m)\u001b[0m\u001b[0;34m,\u001b[0m\u001b[0;34m\u001b[0m\u001b[0;34m\u001b[0m\u001b[0m\n\u001b[1;32m   1179\u001b[0m             \u001b[0mself\u001b[0m\u001b[0;34m.\u001b[0m\u001b[0m_parent_ident\u001b[0m\u001b[0;34m[\u001b[0m\u001b[0;34m\"shell\"\u001b[0m\u001b[0;34m]\u001b[0m\u001b[0;34m,\u001b[0m\u001b[0;34m\u001b[0m\u001b[0;34m\u001b[0m\u001b[0m\n",
            "\u001b[0;32m/usr/local/lib/python3.12/dist-packages/ipykernel/kernelbase.py\u001b[0m in \u001b[0;36m_input_request\u001b[0;34m(self, prompt, ident, parent, password)\u001b[0m\n\u001b[1;32m   1217\u001b[0m             \u001b[0;32mexcept\u001b[0m \u001b[0mKeyboardInterrupt\u001b[0m\u001b[0;34m:\u001b[0m\u001b[0;34m\u001b[0m\u001b[0;34m\u001b[0m\u001b[0m\n\u001b[1;32m   1218\u001b[0m                 \u001b[0;31m# re-raise KeyboardInterrupt, to truncate traceback\u001b[0m\u001b[0;34m\u001b[0m\u001b[0;34m\u001b[0m\u001b[0m\n\u001b[0;32m-> 1219\u001b[0;31m                 \u001b[0;32mraise\u001b[0m \u001b[0mKeyboardInterrupt\u001b[0m\u001b[0;34m(\u001b[0m\u001b[0;34m\"Interrupted by user\"\u001b[0m\u001b[0;34m)\u001b[0m \u001b[0;32mfrom\u001b[0m \u001b[0;32mNone\u001b[0m\u001b[0;34m\u001b[0m\u001b[0;34m\u001b[0m\u001b[0m\n\u001b[0m\u001b[1;32m   1220\u001b[0m             \u001b[0;32mexcept\u001b[0m \u001b[0mException\u001b[0m\u001b[0;34m:\u001b[0m\u001b[0;34m\u001b[0m\u001b[0;34m\u001b[0m\u001b[0m\n\u001b[1;32m   1221\u001b[0m                 \u001b[0mself\u001b[0m\u001b[0;34m.\u001b[0m\u001b[0mlog\u001b[0m\u001b[0;34m.\u001b[0m\u001b[0mwarning\u001b[0m\u001b[0;34m(\u001b[0m\u001b[0;34m\"Invalid Message:\"\u001b[0m\u001b[0;34m,\u001b[0m \u001b[0mexc_info\u001b[0m\u001b[0;34m=\u001b[0m\u001b[0;32mTrue\u001b[0m\u001b[0;34m)\u001b[0m\u001b[0;34m\u001b[0m\u001b[0;34m\u001b[0m\u001b[0m\n",
            "\u001b[0;31mKeyboardInterrupt\u001b[0m: Interrupted by user"
          ]
        }
      ]
    },
    {
      "cell_type": "markdown",
      "metadata": {
        "id": "77d7f0f7"
      },
      "source": [
        "# Task\n",
        "Explain how to get the code from the current Colab notebook onto GitHub."
      ]
    },
    {
      "cell_type": "markdown",
      "metadata": {
        "id": "5d77242d"
      },
      "source": [
        "## Create a new repository on github\n",
        "\n",
        "### Subtask:\n",
        "Go to GitHub and create a new repository for your code.\n"
      ]
    },
    {
      "cell_type": "markdown",
      "metadata": {
        "id": "bc9ef689"
      },
      "source": [
        "## Initialize a git repository locally\n",
        "\n",
        "### Subtask:\n",
        "In your Colab notebook, initialize a Git repository in the directory where your notebook is saved.\n"
      ]
    },
    {
      "cell_type": "markdown",
      "metadata": {
        "id": "8f7455b6"
      },
      "source": [
        "**Reasoning**:\n",
        "The subtask is to initialize a Git repository in the Colab environment. The instruction is to use `!git init` in a new code cell.\n",
        "\n"
      ]
    },
    {
      "cell_type": "code",
      "metadata": {
        "colab": {
          "base_uri": "https://localhost:8080/"
        },
        "id": "c83819c8",
        "outputId": "7476f2b2-9333-44f0-9c55-372350d365a2"
      },
      "source": [
        "!git init"
      ],
      "execution_count": null,
      "outputs": [
        {
          "output_type": "stream",
          "name": "stdout",
          "text": [
            "\u001b[33mhint: Using 'master' as the name for the initial branch. This default branch name\u001b[m\n",
            "\u001b[33mhint: is subject to change. To configure the initial branch name to use in all\u001b[m\n",
            "\u001b[33mhint: of your new repositories, which will suppress this warning, call:\u001b[m\n",
            "\u001b[33mhint: \u001b[m\n",
            "\u001b[33mhint: \tgit config --global init.defaultBranch <name>\u001b[m\n",
            "\u001b[33mhint: \u001b[m\n",
            "\u001b[33mhint: Names commonly chosen instead of 'master' are 'main', 'trunk' and\u001b[m\n",
            "\u001b[33mhint: 'development'. The just-created branch can be renamed via this command:\u001b[m\n",
            "\u001b[33mhint: \u001b[m\n",
            "\u001b[33mhint: \tgit branch -m <name>\u001b[m\n",
            "Initialized empty Git repository in /content/.git/\n"
          ]
        }
      ]
    }
  ]
}