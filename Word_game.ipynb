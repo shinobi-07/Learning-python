{
  "nbformat": 4,
  "nbformat_minor": 0,
  "metadata": {
    "colab": {
      "provenance": [],
      "authorship_tag": "ABX9TyNANeXT3TpbD4GOCf38Z6yb",
      "include_colab_link": true
    },
    "kernelspec": {
      "name": "python3",
      "display_name": "Python 3"
    },
    "language_info": {
      "name": "python"
    }
  },
  "cells": [
    {
      "cell_type": "markdown",
      "metadata": {
        "id": "view-in-github",
        "colab_type": "text"
      },
      "source": [
        "<a href=\"https://colab.research.google.com/github/shinobi-07/Learning-python/blob/main/Word_game.ipynb\" target=\"_parent\"><img src=\"https://colab.research.google.com/assets/colab-badge.svg\" alt=\"Open In Colab\"/></a>"
      ]
    },
    {
      "cell_type": "code",
      "execution_count": null,
      "metadata": {
        "id": "n35LZ_DwVy_T"
      },
      "outputs": [],
      "source": [
        "import  time\n",
        "name = input (\"input your name: \")\n",
        "print (f\"HELLO grasshopper or whatever {name} means \")\n",
        "time.sleep (4)\n",
        "print (\"TASKMASTER: The rules of the game are simple\")\n",
        "time.sleep(5)\n",
        "print (\"TASKMASTER: Oh! youre still here?\")\n",
        "time.sleep(2)\n",
        "print (\"TASKMASTER: well the rules are simple \")\n",
        "time.sleep(5)\n",
        "print (\"TASKMASTER: get a load of this guy 🫵🏼😂, you're still here? Figure it out yourself\")\n",
        "time.sleep(2)\n",
        "print (\"start game\")\n",
        "time.sleep(3)\n",
        "print (\".....\")\n",
        "time.sleep (5)\n",
        "word = \"ALGORITHM\"\n",
        "guess = [\"A\", \"L\", \"G\", \"O\", \"R\", \"I\", \"T\", \"H\", \"M\"]\n",
        "list = []\n",
        "u1 = \"\"\n",
        "while True :\n",
        "  u1 = input (\"input any letter (A-Z): \").upper ()\n",
        "  if u1 == guess[0] :\n",
        "    print (f\"{u1} _ _ _ _ _ _ _ _ _. first letter revealed \")\n",
        "    list.append (guess[0])\n",
        "    print (list, end=\" \")\n",
        "  elif u1 == guess[1] :\n",
        "    print (f\"_ {u1} _ _ _ _ _ _ _. second letter revealed \")\n",
        "    list.append (guess[1])\n",
        "    print (list, end=\" \")\n",
        "  elif u1 == guess[2] :\n",
        "    print (f\"_ _ {u1} _ _ _ _ _. third letter revealed \")\n",
        "    list.append (guess[2])\n",
        "    print (list, end=\" \")\n",
        "  elif u1 == guess[3] :\n",
        "    print (f\"_ _ _ {u1} _ _ _ _ _. fourth letter revealed \")\n",
        "    list.append (guess[3])\n",
        "    print (list, end=\" \")\n",
        "  elif u1 == guess[4] :\n",
        "    print (f\"_ _ _ _ {u1} _ _ _ _. fifth letter revealed \")\n",
        "    list.append (guess[4])\n",
        "    print (list, end=\" \")\n",
        "  elif u1 == guess[5] :\n",
        "    print (f\"_ _ _ _ _ {u1} _ _ _. sixth letter revealed \")\n",
        "    list.append (guess[5])\n",
        "    print (list, end=\" \")\n",
        "  elif u1 == guess[6] :\n",
        "    print (f\"_ _ _ _ _ _ {u1} _ _. seventh letter revealed \")\n",
        "    list.append (guess[6])\n",
        "    print (list, end=\" \")\n",
        "  elif u1 == guess[7] :\n",
        "    print (f\"_ _ _ _ _ _ _ {u1} _. eighth letter revealed \")\n",
        "    list.append (guess[7])\n",
        "    print (list, end=\" \")\n",
        "  elif u1 == guess[8] :\n",
        "    print (f\"_ _ _ _ _ _ _ _ {u1}. ninth letter revealed \")\n",
        "    list.append (guess[8])\n",
        "    print (list, end=\" \")\n",
        "  elif u1 == \"ALGORITHM\" :\n",
        "    print (f\"....... wait oh scholared one (choir noises👼🏼👼🏼) bestow upon me some of your knowledge for {u1} is the word\")\n",
        "    i = input(\"TASKMASTER:so do you have nothing else to do and wish to go again?(Y/N): \")\n",
        "    if i == \"Y\" :\n",
        "      print (\"don't know why but okay, restarting....\")\n",
        "      time.sleep (3)\n",
        "      print (\".....\")\n",
        "      time.sleep (5)\n",
        "      u1 = \"\"\n",
        "      continue\n",
        "    else :\n",
        "      print (\"TASKMASTER: it's like you were never here........    \")\n",
        "      break\n",
        "  else :\n",
        "    print(f\"so close {u1} is just not it\")\n",
        "    continue"
      ]
    }
  ]
}